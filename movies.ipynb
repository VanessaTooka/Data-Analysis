{
 "cells": [
  {
   "attachments": {},
   "cell_type": "markdown",
   "metadata": {
    "id": "7EpdDShRzOkL"
   },
   "source": [
    "Exploratory data analysis (EDA) is a crucial component of data science which allows you to understand the basics of what your data looks like and what kinds of questions might be answered. For this task, we are going to clean, sanitise and explore our data. Using the movies dataset, complete the steps outlined in this notebook by writing code in the cells."
   ]
  },
  {
   "cell_type": "code",
   "execution_count": 2,
   "metadata": {
    "id": "ARURmm3ezOkQ"
   },
   "outputs": [],
   "source": [
    "# Import libraries\n",
    "\n",
    "import numpy as np\n",
    "import pandas as pd\n",
    "import seaborn as sns\n",
    "import ast, json\n",
    "\n",
    "from datetime import datetime\n",
    "import matplotlib.pyplot as plt\n",
    "%matplotlib inline"
   ]
  },
  {
   "cell_type": "code",
   "execution_count": 3,
   "metadata": {
    "id": "h2rUQqYrzOkT"
   },
   "outputs": [],
   "source": [
    "#### Load the movies dataset \n",
    "movies_df = pd.read_csv('movies.csv')"
   ]
  },
  {
   "attachments": {},
   "cell_type": "markdown",
   "metadata": {
    "id": "01Qo282bzOkU"
   },
   "source": [
    "### Data Cleansing\n",
    "#### Clean the data\n",
    "\n",
    "Identify columns that are redundant or unnecessary. It is always easier to make your decisions based on data which is relevant and concise. Remove the following columns `['homepage', 'keywords', 'original_language', 'original_title', 'overview', 'production_companies', 'status', 'tagline']` from the data set as they will not be used in the analysis."
   ]
  },
  {
   "cell_type": "code",
   "execution_count": 4,
   "metadata": {
    "id": "OteozQdbzOkV"
   },
   "outputs": [],
   "source": [
    "movies_df.drop(['homepage', 'keywords', 'original_language', 'original_title', 'overview', 'production_companies', 'status', 'tagline'], axis = 1, inplace = True)"
   ]
  },
  {
   "attachments": {},
   "cell_type": "markdown",
   "metadata": {
    "id": "aLURlpwJzOkW"
   },
   "source": [
    "#### Remove any duplicate rows"
   ]
  },
  {
   "cell_type": "code",
   "execution_count": 5,
   "metadata": {
    "id": "TZGtp5YhzOkX"
   },
   "outputs": [],
   "source": [
    "movies_df.drop_duplicates(inplace = True)"
   ]
  },
  {
   "attachments": {},
   "cell_type": "markdown",
   "metadata": {
    "id": "-FZGXFbezOkY"
   },
   "source": [
    "#### Remove rows with missing data \n",
    "\n",
    "Some movies in the database have zero budget or zero revenue which implies that their values have not been recorded or some information is missing. Discard such entries from the dataframe."
   ]
  },
  {
   "cell_type": "code",
   "execution_count": 6,
   "metadata": {
    "id": "gYkKl6FTzOkZ"
   },
   "outputs": [],
   "source": [
    "movies_df = movies_df[(movies_df['budget'] != 0) & (movies_df['revenue'] != 0)]"
   ]
  },
  {
   "attachments": {},
   "cell_type": "markdown",
   "metadata": {
    "id": "42IlCC8dzOka"
   },
   "source": [
    "#### Change data types\n",
    "To manipulate the columns easily, it is important that we make use of the python objects. Change the release date column into `DateTime` format and extract the year from the date. This will help us in analysing yearly data."
   ]
  },
  {
   "cell_type": "code",
   "execution_count": 7,
   "metadata": {
    "id": "8e9j1-oqzOka"
   },
   "outputs": [],
   "source": [
    "# Change the release_date column to DateTime\n",
    "\n",
    "# convert the 'Date' column to datetime format\n",
    "movies_df['release_date']= pd.to_datetime(movies_df['release_date'])\n",
    " \n",
    "# Extract the release year from every release date\n",
    "movies_df['Year'] =  movies_df['release_date'].dt.year "
   ]
  },
  {
   "attachments": {},
   "cell_type": "markdown",
   "metadata": {
    "id": "qDjwMOU9zOkb"
   },
   "source": [
    "Change budget and revenue columns to a integer data type using numpy’s `int64` method."
   ]
  },
  {
   "cell_type": "code",
   "execution_count": 8,
   "metadata": {
    "id": "p3y-4LIszOkb"
   },
   "outputs": [],
   "source": [
    "movies_df = movies_df.astype({'budget': 'int', 'revenue':'int'})"
   ]
  },
  {
   "attachments": {},
   "cell_type": "markdown",
   "metadata": {
    "id": "qV8nwsWHzOkb"
   },
   "source": [
    "On checking the dataset, we see that `genres`, `production_countries`, `spoken_languages` are in the JSON format which will make it difficult to manipulate the dataframe. The `parse_col_json function` flattens these columns into a format that can be easily interpreted."
   ]
  },
  {
   "cell_type": "code",
   "execution_count": 9,
   "metadata": {},
   "outputs": [],
   "source": [
    "# Convert from JSON format to a list of strings\n",
    "def parse_col_json(column, key):\n",
    "    \"\"\"\n",
    "    Args:\n",
    "        column: string\n",
    "            name of the column to be processed.\n",
    "        key: string\n",
    "            name of the dictionary key which needs to be extracted\n",
    "    \"\"\"\n",
    "    for index,i in zip(movies_df.index, movies_df[column].apply(json.loads)):\n",
    "        list1=[]\n",
    "        for j in range(len(i)):\n",
    "            list1.append((i[j][key]))# the key 'name' contains the name of the genre\n",
    "        movies_df.loc[index, column] = str(list1)\n",
    "    \n",
    "# Flatten data in columns\n",
    "parse_col_json('genres', 'name')\n",
    "parse_col_json('production_countries', 'name')\n",
    "parse_col_json('spoken_languages', 'name')\n"
   ]
  },
  {
   "cell_type": "code",
   "execution_count": 10,
   "metadata": {},
   "outputs": [
    {
     "data": {
      "text/html": [
       "<div>\n",
       "<style scoped>\n",
       "    .dataframe tbody tr th:only-of-type {\n",
       "        vertical-align: middle;\n",
       "    }\n",
       "\n",
       "    .dataframe tbody tr th {\n",
       "        vertical-align: top;\n",
       "    }\n",
       "\n",
       "    .dataframe thead th {\n",
       "        text-align: right;\n",
       "    }\n",
       "</style>\n",
       "<table border=\"1\" class=\"dataframe\">\n",
       "  <thead>\n",
       "    <tr style=\"text-align: right;\">\n",
       "      <th></th>\n",
       "      <th>budget</th>\n",
       "      <th>genres</th>\n",
       "      <th>id</th>\n",
       "      <th>popularity</th>\n",
       "      <th>production_countries</th>\n",
       "      <th>release_date</th>\n",
       "      <th>revenue</th>\n",
       "      <th>runtime</th>\n",
       "      <th>spoken_languages</th>\n",
       "      <th>title</th>\n",
       "      <th>vote_average</th>\n",
       "      <th>vote_count</th>\n",
       "      <th>Year</th>\n",
       "    </tr>\n",
       "  </thead>\n",
       "  <tbody>\n",
       "    <tr>\n",
       "      <th>933</th>\n",
       "      <td>50000000</td>\n",
       "      <td>['Action', 'Adventure', 'Comedy', 'Western']</td>\n",
       "      <td>6038</td>\n",
       "      <td>16.251204</td>\n",
       "      <td>['Hong Kong', 'United States of America']</td>\n",
       "      <td>2003-02-06</td>\n",
       "      <td>88323487</td>\n",
       "      <td>115.0</td>\n",
       "      <td>['English', '普通话']</td>\n",
       "      <td>Shanghai Knights</td>\n",
       "      <td>6.0</td>\n",
       "      <td>692</td>\n",
       "      <td>2003</td>\n",
       "    </tr>\n",
       "    <tr>\n",
       "      <th>303</th>\n",
       "      <td>100000000</td>\n",
       "      <td>['Action', 'Crime']</td>\n",
       "      <td>314</td>\n",
       "      <td>32.271938</td>\n",
       "      <td>['United States of America']</td>\n",
       "      <td>2004-07-22</td>\n",
       "      <td>82102379</td>\n",
       "      <td>104.0</td>\n",
       "      <td>['Español', 'English']</td>\n",
       "      <td>Catwoman</td>\n",
       "      <td>4.2</td>\n",
       "      <td>808</td>\n",
       "      <td>2004</td>\n",
       "    </tr>\n",
       "    <tr>\n",
       "      <th>2611</th>\n",
       "      <td>15000000</td>\n",
       "      <td>['Drama', 'Comedy', 'Romance']</td>\n",
       "      <td>16222</td>\n",
       "      <td>8.074807</td>\n",
       "      <td>['United States of America']</td>\n",
       "      <td>2000-03-31</td>\n",
       "      <td>9902115</td>\n",
       "      <td>94.0</td>\n",
       "      <td>['English']</td>\n",
       "      <td>Whatever It Takes</td>\n",
       "      <td>5.0</td>\n",
       "      <td>37</td>\n",
       "      <td>2000</td>\n",
       "    </tr>\n",
       "    <tr>\n",
       "      <th>527</th>\n",
       "      <td>53000000</td>\n",
       "      <td>['Comedy', 'Crime']</td>\n",
       "      <td>4551</td>\n",
       "      <td>18.614720</td>\n",
       "      <td>['United States of America']</td>\n",
       "      <td>2005-03-04</td>\n",
       "      <td>95226116</td>\n",
       "      <td>118.0</td>\n",
       "      <td>['English', 'Pусский']</td>\n",
       "      <td>Be Cool</td>\n",
       "      <td>5.4</td>\n",
       "      <td>292</td>\n",
       "      <td>2005</td>\n",
       "    </tr>\n",
       "    <tr>\n",
       "      <th>2734</th>\n",
       "      <td>16000000</td>\n",
       "      <td>['Drama']</td>\n",
       "      <td>339984</td>\n",
       "      <td>10.248439</td>\n",
       "      <td>['United States of America']</td>\n",
       "      <td>2016-03-17</td>\n",
       "      <td>77000000</td>\n",
       "      <td>117.0</td>\n",
       "      <td>['English']</td>\n",
       "      <td>Miracles from Heaven</td>\n",
       "      <td>6.7</td>\n",
       "      <td>186</td>\n",
       "      <td>2016</td>\n",
       "    </tr>\n",
       "  </tbody>\n",
       "</table>\n",
       "</div>"
      ],
      "text/plain": [
       "         budget                                        genres      id  \\\n",
       "933    50000000  ['Action', 'Adventure', 'Comedy', 'Western']    6038   \n",
       "303   100000000                           ['Action', 'Crime']     314   \n",
       "2611   15000000                ['Drama', 'Comedy', 'Romance']   16222   \n",
       "527    53000000                           ['Comedy', 'Crime']    4551   \n",
       "2734   16000000                                     ['Drama']  339984   \n",
       "\n",
       "      popularity                       production_countries release_date  \\\n",
       "933    16.251204  ['Hong Kong', 'United States of America']   2003-02-06   \n",
       "303    32.271938               ['United States of America']   2004-07-22   \n",
       "2611    8.074807               ['United States of America']   2000-03-31   \n",
       "527    18.614720               ['United States of America']   2005-03-04   \n",
       "2734   10.248439               ['United States of America']   2016-03-17   \n",
       "\n",
       "       revenue  runtime        spoken_languages                 title  \\\n",
       "933   88323487    115.0      ['English', '普通话']      Shanghai Knights   \n",
       "303   82102379    104.0  ['Español', 'English']              Catwoman   \n",
       "2611   9902115     94.0             ['English']     Whatever It Takes   \n",
       "527   95226116    118.0  ['English', 'Pусский']               Be Cool   \n",
       "2734  77000000    117.0             ['English']  Miracles from Heaven   \n",
       "\n",
       "      vote_average  vote_count  Year  \n",
       "933            6.0         692  2003  \n",
       "303            4.2         808  2004  \n",
       "2611           5.0          37  2000  \n",
       "527            5.4         292  2005  \n",
       "2734           6.7         186  2016  "
      ]
     },
     "execution_count": 10,
     "metadata": {},
     "output_type": "execute_result"
    }
   ],
   "source": [
    "# Inspect flattened data\n",
    "movies_df.sample(5)"
   ]
  },
  {
   "attachments": {},
   "cell_type": "markdown",
   "metadata": {
    "id": "RXqfAA-FtCuG"
   },
   "source": [
    "### Finding Certain Genres\n",
    "Locate all movies in the \"Action\" genre. "
   ]
  },
  {
   "cell_type": "code",
   "execution_count": 11,
   "metadata": {},
   "outputs": [
    {
     "data": {
      "text/html": [
       "<div>\n",
       "<style scoped>\n",
       "    .dataframe tbody tr th:only-of-type {\n",
       "        vertical-align: middle;\n",
       "    }\n",
       "\n",
       "    .dataframe tbody tr th {\n",
       "        vertical-align: top;\n",
       "    }\n",
       "\n",
       "    .dataframe thead th {\n",
       "        text-align: right;\n",
       "    }\n",
       "</style>\n",
       "<table border=\"1\" class=\"dataframe\">\n",
       "  <thead>\n",
       "    <tr style=\"text-align: right;\">\n",
       "      <th></th>\n",
       "      <th>budget</th>\n",
       "      <th>genres</th>\n",
       "      <th>id</th>\n",
       "      <th>popularity</th>\n",
       "      <th>production_countries</th>\n",
       "      <th>release_date</th>\n",
       "      <th>revenue</th>\n",
       "      <th>runtime</th>\n",
       "      <th>spoken_languages</th>\n",
       "      <th>title</th>\n",
       "      <th>vote_average</th>\n",
       "      <th>vote_count</th>\n",
       "      <th>Year</th>\n",
       "    </tr>\n",
       "  </thead>\n",
       "  <tbody>\n",
       "    <tr>\n",
       "      <th>0</th>\n",
       "      <td>237000000</td>\n",
       "      <td>['Action', 'Adventure', 'Fantasy', 'Science Fi...</td>\n",
       "      <td>19995</td>\n",
       "      <td>150.437577</td>\n",
       "      <td>['United States of America', 'United Kingdom']</td>\n",
       "      <td>2009-12-10</td>\n",
       "      <td>2787965087</td>\n",
       "      <td>162.0</td>\n",
       "      <td>['English', 'Español']</td>\n",
       "      <td>Avatar</td>\n",
       "      <td>7.2</td>\n",
       "      <td>11800</td>\n",
       "      <td>2009</td>\n",
       "    </tr>\n",
       "    <tr>\n",
       "      <th>1</th>\n",
       "      <td>300000000</td>\n",
       "      <td>['Adventure', 'Fantasy', 'Action']</td>\n",
       "      <td>285</td>\n",
       "      <td>139.082615</td>\n",
       "      <td>['United States of America']</td>\n",
       "      <td>2007-05-19</td>\n",
       "      <td>961000000</td>\n",
       "      <td>169.0</td>\n",
       "      <td>['English']</td>\n",
       "      <td>Pirates of the Caribbean: At World's End</td>\n",
       "      <td>6.9</td>\n",
       "      <td>4500</td>\n",
       "      <td>2007</td>\n",
       "    </tr>\n",
       "    <tr>\n",
       "      <th>2</th>\n",
       "      <td>245000000</td>\n",
       "      <td>['Action', 'Adventure', 'Crime']</td>\n",
       "      <td>206647</td>\n",
       "      <td>107.376788</td>\n",
       "      <td>['United Kingdom', 'United States of America']</td>\n",
       "      <td>2015-10-26</td>\n",
       "      <td>880674609</td>\n",
       "      <td>148.0</td>\n",
       "      <td>['Français', 'English', 'Español', 'Italiano',...</td>\n",
       "      <td>Spectre</td>\n",
       "      <td>6.3</td>\n",
       "      <td>4466</td>\n",
       "      <td>2015</td>\n",
       "    </tr>\n",
       "    <tr>\n",
       "      <th>3</th>\n",
       "      <td>250000000</td>\n",
       "      <td>['Action', 'Crime', 'Drama', 'Thriller']</td>\n",
       "      <td>49026</td>\n",
       "      <td>112.312950</td>\n",
       "      <td>['United States of America']</td>\n",
       "      <td>2012-07-16</td>\n",
       "      <td>1084939099</td>\n",
       "      <td>165.0</td>\n",
       "      <td>['English']</td>\n",
       "      <td>The Dark Knight Rises</td>\n",
       "      <td>7.6</td>\n",
       "      <td>9106</td>\n",
       "      <td>2012</td>\n",
       "    </tr>\n",
       "    <tr>\n",
       "      <th>4</th>\n",
       "      <td>260000000</td>\n",
       "      <td>['Action', 'Adventure', 'Science Fiction']</td>\n",
       "      <td>49529</td>\n",
       "      <td>43.926995</td>\n",
       "      <td>['United States of America']</td>\n",
       "      <td>2012-03-07</td>\n",
       "      <td>284139100</td>\n",
       "      <td>132.0</td>\n",
       "      <td>['English']</td>\n",
       "      <td>John Carter</td>\n",
       "      <td>6.1</td>\n",
       "      <td>2124</td>\n",
       "      <td>2012</td>\n",
       "    </tr>\n",
       "    <tr>\n",
       "      <th>...</th>\n",
       "      <td>...</td>\n",
       "      <td>...</td>\n",
       "      <td>...</td>\n",
       "      <td>...</td>\n",
       "      <td>...</td>\n",
       "      <td>...</td>\n",
       "      <td>...</td>\n",
       "      <td>...</td>\n",
       "      <td>...</td>\n",
       "      <td>...</td>\n",
       "      <td>...</td>\n",
       "      <td>...</td>\n",
       "      <td>...</td>\n",
       "    </tr>\n",
       "    <tr>\n",
       "      <th>4664</th>\n",
       "      <td>230000</td>\n",
       "      <td>['Drama', 'Action', 'Crime']</td>\n",
       "      <td>18533</td>\n",
       "      <td>18.450613</td>\n",
       "      <td>['United Kingdom']</td>\n",
       "      <td>2008-10-09</td>\n",
       "      <td>2260712</td>\n",
       "      <td>92.0</td>\n",
       "      <td>['English']</td>\n",
       "      <td>Bronson</td>\n",
       "      <td>6.9</td>\n",
       "      <td>733</td>\n",
       "      <td>2008</td>\n",
       "    </tr>\n",
       "    <tr>\n",
       "      <th>4670</th>\n",
       "      <td>400000</td>\n",
       "      <td>['Adventure', 'Action', 'Thriller', 'Science F...</td>\n",
       "      <td>9659</td>\n",
       "      <td>33.142185</td>\n",
       "      <td>['Australia']</td>\n",
       "      <td>1979-04-12</td>\n",
       "      <td>100000000</td>\n",
       "      <td>93.0</td>\n",
       "      <td>['English']</td>\n",
       "      <td>Mad Max</td>\n",
       "      <td>6.6</td>\n",
       "      <td>1213</td>\n",
       "      <td>1979</td>\n",
       "    </tr>\n",
       "    <tr>\n",
       "      <th>4701</th>\n",
       "      <td>150000</td>\n",
       "      <td>['Action', 'Drama', 'Romance']</td>\n",
       "      <td>5822</td>\n",
       "      <td>0.132878</td>\n",
       "      <td>['United States of America']</td>\n",
       "      <td>1971-04-23</td>\n",
       "      <td>15200000</td>\n",
       "      <td>97.0</td>\n",
       "      <td>['English']</td>\n",
       "      <td>Sweet Sweetback's Baadasssss Song</td>\n",
       "      <td>4.6</td>\n",
       "      <td>18</td>\n",
       "      <td>1971</td>\n",
       "    </tr>\n",
       "    <tr>\n",
       "      <th>4772</th>\n",
       "      <td>31192</td>\n",
       "      <td>['Drama', 'Action', 'Comedy']</td>\n",
       "      <td>42151</td>\n",
       "      <td>1.330379</td>\n",
       "      <td>['United Kingdom']</td>\n",
       "      <td>2009-09-01</td>\n",
       "      <td>10000</td>\n",
       "      <td>89.0</td>\n",
       "      <td>['English']</td>\n",
       "      <td>Down Terrace</td>\n",
       "      <td>6.3</td>\n",
       "      <td>26</td>\n",
       "      <td>2009</td>\n",
       "    </tr>\n",
       "    <tr>\n",
       "      <th>4798</th>\n",
       "      <td>220000</td>\n",
       "      <td>['Action', 'Crime', 'Thriller']</td>\n",
       "      <td>9367</td>\n",
       "      <td>14.269792</td>\n",
       "      <td>['Mexico', 'United States of America']</td>\n",
       "      <td>1992-09-04</td>\n",
       "      <td>2040920</td>\n",
       "      <td>81.0</td>\n",
       "      <td>['Español']</td>\n",
       "      <td>El Mariachi</td>\n",
       "      <td>6.6</td>\n",
       "      <td>238</td>\n",
       "      <td>1992</td>\n",
       "    </tr>\n",
       "  </tbody>\n",
       "</table>\n",
       "<p>918 rows × 13 columns</p>\n",
       "</div>"
      ],
      "text/plain": [
       "         budget                                             genres      id  \\\n",
       "0     237000000  ['Action', 'Adventure', 'Fantasy', 'Science Fi...   19995   \n",
       "1     300000000                 ['Adventure', 'Fantasy', 'Action']     285   \n",
       "2     245000000                   ['Action', 'Adventure', 'Crime']  206647   \n",
       "3     250000000           ['Action', 'Crime', 'Drama', 'Thriller']   49026   \n",
       "4     260000000         ['Action', 'Adventure', 'Science Fiction']   49529   \n",
       "...         ...                                                ...     ...   \n",
       "4664     230000                       ['Drama', 'Action', 'Crime']   18533   \n",
       "4670     400000  ['Adventure', 'Action', 'Thriller', 'Science F...    9659   \n",
       "4701     150000                     ['Action', 'Drama', 'Romance']    5822   \n",
       "4772      31192                      ['Drama', 'Action', 'Comedy']   42151   \n",
       "4798     220000                    ['Action', 'Crime', 'Thriller']    9367   \n",
       "\n",
       "      popularity                            production_countries release_date  \\\n",
       "0     150.437577  ['United States of America', 'United Kingdom']   2009-12-10   \n",
       "1     139.082615                    ['United States of America']   2007-05-19   \n",
       "2     107.376788  ['United Kingdom', 'United States of America']   2015-10-26   \n",
       "3     112.312950                    ['United States of America']   2012-07-16   \n",
       "4      43.926995                    ['United States of America']   2012-03-07   \n",
       "...          ...                                             ...          ...   \n",
       "4664   18.450613                              ['United Kingdom']   2008-10-09   \n",
       "4670   33.142185                                   ['Australia']   1979-04-12   \n",
       "4701    0.132878                    ['United States of America']   1971-04-23   \n",
       "4772    1.330379                              ['United Kingdom']   2009-09-01   \n",
       "4798   14.269792          ['Mexico', 'United States of America']   1992-09-04   \n",
       "\n",
       "         revenue  runtime                                   spoken_languages  \\\n",
       "0     2787965087    162.0                             ['English', 'Español']   \n",
       "1      961000000    169.0                                        ['English']   \n",
       "2      880674609    148.0  ['Français', 'English', 'Español', 'Italiano',...   \n",
       "3     1084939099    165.0                                        ['English']   \n",
       "4      284139100    132.0                                        ['English']   \n",
       "...          ...      ...                                                ...   \n",
       "4664     2260712     92.0                                        ['English']   \n",
       "4670   100000000     93.0                                        ['English']   \n",
       "4701    15200000     97.0                                        ['English']   \n",
       "4772       10000     89.0                                        ['English']   \n",
       "4798     2040920     81.0                                        ['Español']   \n",
       "\n",
       "                                         title  vote_average  vote_count  Year  \n",
       "0                                       Avatar           7.2       11800  2009  \n",
       "1     Pirates of the Caribbean: At World's End           6.9        4500  2007  \n",
       "2                                      Spectre           6.3        4466  2015  \n",
       "3                        The Dark Knight Rises           7.6        9106  2012  \n",
       "4                                  John Carter           6.1        2124  2012  \n",
       "...                                        ...           ...         ...   ...  \n",
       "4664                                   Bronson           6.9         733  2008  \n",
       "4670                                   Mad Max           6.6        1213  1979  \n",
       "4701         Sweet Sweetback's Baadasssss Song           4.6          18  1971  \n",
       "4772                              Down Terrace           6.3          26  2009  \n",
       "4798                               El Mariachi           6.6         238  1992  \n",
       "\n",
       "[918 rows x 13 columns]"
      ]
     },
     "execution_count": 11,
     "metadata": {},
     "output_type": "execute_result"
    }
   ],
   "source": [
    "# Create a dataframe with all the movies in the \"Action\" genre\n",
    "action_movies = movies_df[movies_df['genres'].str.contains('Action')]\n",
    "action_movies"
   ]
  },
  {
   "attachments": {},
   "cell_type": "markdown",
   "metadata": {
    "id": "IdqN08kXzOkd"
   },
   "source": [
    "### Now onto the exploration\n",
    "\n",
    "#### Identify relationships between variables (features)\n",
    "\n",
    "The main goal here is to identify and create relationships that can help you formulate ideas. We have defined questions to help you identify some relationships to explore."
   ]
  },
  {
   "attachments": {},
   "cell_type": "markdown",
   "metadata": {
    "id": "9Doy1MMezOkd"
   },
   "source": [
    "#### Which are the 5 most expensive movies? \n",
    "\n",
    "How do the most expensive and cheapest movies compare? Exploring the most expensive movies highlights if some movies are worth the money spent on them based on their performance and revenue generated."
   ]
  },
  {
   "cell_type": "code",
   "execution_count": 12,
   "metadata": {
    "id": "iKQswodgzOkd",
    "scrolled": true
   },
   "outputs": [],
   "source": [
    "# Code here\n",
    "expensive_movies = movies_df.nlargest(5, 'budget')\n",
    "cheapest_movies = movies_df.nsmallest(5, 'budget')\n",
    "\n",
    "movies_df['profit'] = movies_df['revenue'] - movies_df['budget']\n"
   ]
  },
  {
   "attachments": {},
   "cell_type": "markdown",
   "metadata": {
    "id": "_jqV6iG7zOke"
   },
   "source": [
    "#### What are the top 5 most profitable movies? \n",
    "\n",
    "Compare the min and max profits. The comparison helps us identify the different approaches which failed and succeeded. Subtracting the budget from the revenue generated, will return the profit earned."
   ]
  },
  {
   "cell_type": "code",
   "execution_count": 13,
   "metadata": {
    "id": "IkGr3Va4zOke"
   },
   "outputs": [
    {
     "name": "stdout",
     "output_type": "stream",
     "text": [
      "Top profitable movies:        budget                                             genres      id  \\\n",
      "0   237000000  ['Action', 'Adventure', 'Fantasy', 'Science Fi...   19995   \n",
      "25  200000000                   ['Drama', 'Romance', 'Thriller']     597   \n",
      "28  150000000  ['Action', 'Adventure', 'Science Fiction', 'Th...  135397   \n",
      "44  190000000                                         ['Action']  168259   \n",
      "16  220000000         ['Science Fiction', 'Action', 'Adventure']   24428   \n",
      "\n",
      "    popularity                            production_countries release_date  \\\n",
      "0   150.437577  ['United States of America', 'United Kingdom']   2009-12-10   \n",
      "25  100.025899                    ['United States of America']   1997-11-18   \n",
      "28  418.708552                    ['United States of America']   2015-06-09   \n",
      "44  102.322217           ['Japan', 'United States of America']   2015-04-01   \n",
      "16  144.448633                    ['United States of America']   2012-04-25   \n",
      "\n",
      "       revenue  runtime                                   spoken_languages  \\\n",
      "0   2787965087    162.0                             ['English', 'Español']   \n",
      "25  1845034188    194.0  ['English', 'Français', 'Deutsch', 'svenska', ...   \n",
      "28  1513528810    124.0                                        ['English']   \n",
      "44  1506249360    137.0                                        ['English']   \n",
      "16  1519557910    143.0                                        ['English']   \n",
      "\n",
      "             title  vote_average  vote_count  Year      profit  \n",
      "0           Avatar           7.2       11800  2009  2550965087  \n",
      "25         Titanic           7.5        7562  1997  1645034188  \n",
      "28  Jurassic World           6.5        8662  2015  1363528810  \n",
      "44       Furious 7           7.3        4176  2015  1316249360  \n",
      "16    The Avengers           7.4       11776  2012  1299557910  \n"
     ]
    }
   ],
   "source": [
    "# Code here\n",
    "movies_df['profit'] = movies_df['revenue'] - movies_df['budget']\n",
    "\n",
    "profitable_movies = movies_df.nlargest(5, 'profit')\n",
    "print(f\"Top profitable movies: {profitable_movies}\")\n"
   ]
  },
  {
   "attachments": {},
   "cell_type": "markdown",
   "metadata": {
    "id": "gqs-eBKizOke"
   },
   "source": [
    "#### Find the most popular movies. \n",
    "Sort the dataframe based on the popularity column."
   ]
  },
  {
   "cell_type": "code",
   "execution_count": 14,
   "metadata": {},
   "outputs": [
    {
     "data": {
      "text/html": [
       "<div>\n",
       "<style scoped>\n",
       "    .dataframe tbody tr th:only-of-type {\n",
       "        vertical-align: middle;\n",
       "    }\n",
       "\n",
       "    .dataframe tbody tr th {\n",
       "        vertical-align: top;\n",
       "    }\n",
       "\n",
       "    .dataframe thead th {\n",
       "        text-align: right;\n",
       "    }\n",
       "</style>\n",
       "<table border=\"1\" class=\"dataframe\">\n",
       "  <thead>\n",
       "    <tr style=\"text-align: right;\">\n",
       "      <th></th>\n",
       "      <th>budget</th>\n",
       "      <th>genres</th>\n",
       "      <th>id</th>\n",
       "      <th>popularity</th>\n",
       "      <th>production_countries</th>\n",
       "      <th>release_date</th>\n",
       "      <th>revenue</th>\n",
       "      <th>runtime</th>\n",
       "      <th>spoken_languages</th>\n",
       "      <th>title</th>\n",
       "      <th>vote_average</th>\n",
       "      <th>vote_count</th>\n",
       "      <th>Year</th>\n",
       "      <th>profit</th>\n",
       "    </tr>\n",
       "  </thead>\n",
       "  <tbody>\n",
       "    <tr>\n",
       "      <th>546</th>\n",
       "      <td>74000000</td>\n",
       "      <td>['Family', 'Animation', 'Adventure', 'Comedy']</td>\n",
       "      <td>211672</td>\n",
       "      <td>875.581305</td>\n",
       "      <td>['United States of America']</td>\n",
       "      <td>2015-06-17</td>\n",
       "      <td>1156730962</td>\n",
       "      <td>91.0</td>\n",
       "      <td>['English']</td>\n",
       "      <td>Minions</td>\n",
       "      <td>6.4</td>\n",
       "      <td>4571</td>\n",
       "      <td>2015</td>\n",
       "      <td>1082730962</td>\n",
       "    </tr>\n",
       "    <tr>\n",
       "      <th>95</th>\n",
       "      <td>165000000</td>\n",
       "      <td>['Adventure', 'Drama', 'Science Fiction']</td>\n",
       "      <td>157336</td>\n",
       "      <td>724.247784</td>\n",
       "      <td>['Canada', 'United States of America', 'United...</td>\n",
       "      <td>2014-11-05</td>\n",
       "      <td>675120017</td>\n",
       "      <td>169.0</td>\n",
       "      <td>['English']</td>\n",
       "      <td>Interstellar</td>\n",
       "      <td>8.1</td>\n",
       "      <td>10867</td>\n",
       "      <td>2014</td>\n",
       "      <td>510120017</td>\n",
       "    </tr>\n",
       "    <tr>\n",
       "      <th>788</th>\n",
       "      <td>58000000</td>\n",
       "      <td>['Action', 'Adventure', 'Comedy']</td>\n",
       "      <td>293660</td>\n",
       "      <td>514.569956</td>\n",
       "      <td>['United States of America']</td>\n",
       "      <td>2016-02-09</td>\n",
       "      <td>783112979</td>\n",
       "      <td>108.0</td>\n",
       "      <td>['English']</td>\n",
       "      <td>Deadpool</td>\n",
       "      <td>7.4</td>\n",
       "      <td>10995</td>\n",
       "      <td>2016</td>\n",
       "      <td>725112979</td>\n",
       "    </tr>\n",
       "    <tr>\n",
       "      <th>94</th>\n",
       "      <td>170000000</td>\n",
       "      <td>['Action', 'Science Fiction', 'Adventure']</td>\n",
       "      <td>118340</td>\n",
       "      <td>481.098624</td>\n",
       "      <td>['United Kingdom', 'United States of America']</td>\n",
       "      <td>2014-07-30</td>\n",
       "      <td>773328629</td>\n",
       "      <td>121.0</td>\n",
       "      <td>['English']</td>\n",
       "      <td>Guardians of the Galaxy</td>\n",
       "      <td>7.9</td>\n",
       "      <td>9742</td>\n",
       "      <td>2014</td>\n",
       "      <td>603328629</td>\n",
       "    </tr>\n",
       "    <tr>\n",
       "      <th>127</th>\n",
       "      <td>150000000</td>\n",
       "      <td>['Action', 'Adventure', 'Science Fiction', 'Th...</td>\n",
       "      <td>76341</td>\n",
       "      <td>434.278564</td>\n",
       "      <td>['Australia', 'United States of America']</td>\n",
       "      <td>2015-05-13</td>\n",
       "      <td>378858340</td>\n",
       "      <td>120.0</td>\n",
       "      <td>['English']</td>\n",
       "      <td>Mad Max: Fury Road</td>\n",
       "      <td>7.2</td>\n",
       "      <td>9427</td>\n",
       "      <td>2015</td>\n",
       "      <td>228858340</td>\n",
       "    </tr>\n",
       "  </tbody>\n",
       "</table>\n",
       "</div>"
      ],
      "text/plain": [
       "        budget                                             genres      id  \\\n",
       "546   74000000     ['Family', 'Animation', 'Adventure', 'Comedy']  211672   \n",
       "95   165000000          ['Adventure', 'Drama', 'Science Fiction']  157336   \n",
       "788   58000000                  ['Action', 'Adventure', 'Comedy']  293660   \n",
       "94   170000000         ['Action', 'Science Fiction', 'Adventure']  118340   \n",
       "127  150000000  ['Action', 'Adventure', 'Science Fiction', 'Th...   76341   \n",
       "\n",
       "     popularity                               production_countries  \\\n",
       "546  875.581305                       ['United States of America']   \n",
       "95   724.247784  ['Canada', 'United States of America', 'United...   \n",
       "788  514.569956                       ['United States of America']   \n",
       "94   481.098624     ['United Kingdom', 'United States of America']   \n",
       "127  434.278564          ['Australia', 'United States of America']   \n",
       "\n",
       "    release_date     revenue  runtime spoken_languages  \\\n",
       "546   2015-06-17  1156730962     91.0      ['English']   \n",
       "95    2014-11-05   675120017    169.0      ['English']   \n",
       "788   2016-02-09   783112979    108.0      ['English']   \n",
       "94    2014-07-30   773328629    121.0      ['English']   \n",
       "127   2015-05-13   378858340    120.0      ['English']   \n",
       "\n",
       "                       title  vote_average  vote_count  Year      profit  \n",
       "546                  Minions           6.4        4571  2015  1082730962  \n",
       "95              Interstellar           8.1       10867  2014   510120017  \n",
       "788                 Deadpool           7.4       10995  2016   725112979  \n",
       "94   Guardians of the Galaxy           7.9        9742  2014   603328629  \n",
       "127       Mad Max: Fury Road           7.2        9427  2015   228858340  "
      ]
     },
     "execution_count": 14,
     "metadata": {},
     "output_type": "execute_result"
    }
   ],
   "source": [
    "# Code here\n",
    "popularity_movies = movies_df.nlargest(5, 'popularity')\n",
    "popularity_movies\n"
   ]
  },
  {
   "attachments": {},
   "cell_type": "markdown",
   "metadata": {
    "id": "t8GJwQQGzOkf"
   },
   "source": [
    "#### Find Movies which are rated above 7"
   ]
  },
  {
   "cell_type": "code",
   "execution_count": 15,
   "metadata": {
    "id": "fgZvo-auzOkf"
   },
   "outputs": [
    {
     "name": "stdout",
     "output_type": "stream",
     "text": [
      "         budget                                             genres     id  \\\n",
      "0     237000000  ['Action', 'Adventure', 'Fantasy', 'Science Fi...  19995   \n",
      "3     250000000           ['Action', 'Crime', 'Drama', 'Thriller']  49026   \n",
      "6     260000000                            ['Animation', 'Family']  38757   \n",
      "7     280000000         ['Action', 'Adventure', 'Science Fiction']  99861   \n",
      "8     250000000                 ['Adventure', 'Fantasy', 'Family']    767   \n",
      "...         ...                                                ...    ...   \n",
      "4713     160000                         ['Documentary', 'History']   1779   \n",
      "4724      10000  ['Drama', 'Fantasy', 'Horror', 'Science Fiction']    985   \n",
      "4738      60000                   ['Mystery', 'Drama', 'Thriller']    473   \n",
      "4773      27000                                         ['Comedy']   2292   \n",
      "4792      20000         ['Crime', 'Horror', 'Mystery', 'Thriller']  36095   \n",
      "\n",
      "      popularity                            production_countries release_date  \\\n",
      "0     150.437577  ['United States of America', 'United Kingdom']   2009-12-10   \n",
      "3     112.312950                    ['United States of America']   2012-07-16   \n",
      "6      48.681969                    ['United States of America']   2010-11-24   \n",
      "7     134.279229                    ['United States of America']   2015-04-22   \n",
      "8      98.885637  ['United Kingdom', 'United States of America']   2009-07-07   \n",
      "...          ...                                             ...          ...   \n",
      "4713    3.284903                    ['United States of America']   1989-09-01   \n",
      "4724   20.399578                    ['United States of America']   1977-03-19   \n",
      "4738   27.788067                    ['United States of America']   1998-07-10   \n",
      "4773   19.748658                    ['United States of America']   1994-09-13   \n",
      "4792    0.212443                                       ['Japan']   1997-11-06   \n",
      "\n",
      "         revenue  runtime        spoken_languages  \\\n",
      "0     2787965087    162.0  ['English', 'Español']   \n",
      "3     1084939099    165.0             ['English']   \n",
      "6      591794936    100.0             ['English']   \n",
      "7     1405403694    141.0             ['English']   \n",
      "8      933959197    153.0             ['English']   \n",
      "...          ...      ...                     ...   \n",
      "4713     6706368     91.0             ['English']   \n",
      "4724     7000000     89.0             ['English']   \n",
      "4738     3221152     84.0             ['English']   \n",
      "4773     3151130     92.0             ['English']   \n",
      "4792       99000    111.0                 ['日本語']   \n",
      "\n",
      "                                       title  vote_average  vote_count  Year  \\\n",
      "0                                     Avatar           7.2       11800  2009   \n",
      "3                      The Dark Knight Rises           7.6        9106  2012   \n",
      "6                                    Tangled           7.4        3330  2010   \n",
      "7                    Avengers: Age of Ultron           7.3        6767  2015   \n",
      "8     Harry Potter and the Half-Blood Prince           7.4        5293  2009   \n",
      "...                                      ...           ...         ...   ...   \n",
      "4713                              Roger & Me           7.4          90  1989   \n",
      "4724                              Eraserhead           7.5         485  1977   \n",
      "4738                                      Pi           7.1         586  1998   \n",
      "4773                                  Clerks           7.4         755  1994   \n",
      "4792                                    Cure           7.4          63  1997   \n",
      "\n",
      "          profit  \n",
      "0     2550965087  \n",
      "3      834939099  \n",
      "6      331794936  \n",
      "7     1125403694  \n",
      "8      683959197  \n",
      "...          ...  \n",
      "4713     6546368  \n",
      "4724     6990000  \n",
      "4738     3161152  \n",
      "4773     3124130  \n",
      "4792       79000  \n",
      "\n",
      "[637 rows x 14 columns]\n"
     ]
    }
   ],
   "source": [
    "# Code here\n",
    "\n",
    "rate = movies_df[movies_df['vote_average'] > 7]\n",
    "print(rate)\n"
   ]
  },
  {
   "attachments": {},
   "cell_type": "markdown",
   "metadata": {
    "id": "JEb7f2_AzOkg"
   },
   "source": [
    "#### Most successful genres \n",
    "Create a bar plot explaining the frequency of movies in each genre."
   ]
  },
  {
   "cell_type": "code",
   "execution_count": 18,
   "metadata": {
    "id": "IuHFwUx3zOkg"
   },
   "outputs": [
    {
     "data": {
      "text/plain": [
       "Text(0.5, 0, 'Frequency')"
      ]
     },
     "execution_count": 18,
     "metadata": {},
     "output_type": "execute_result"
    },
    {
     "data": {
      "image/png": "[encoded data removed]",
      "text/plain": [
       "<Figure size 2000x1000 with 1 Axes>"
      ]
     },
     "metadata": {},
     "output_type": "display_data"
    }
   ],
   "source": [
    "# Generate three different interesting visualisations with a data story.\n",
    "\n",
    "# Most successful genres — create a bar plot explaining the frequency of movies in each genre.\n",
    "genres_list = movies_df['genres'].to_list()\n",
    "genres_list_1 = []\n",
    "for item in genres_list:\n",
    "    i = item.split(',')[0].strip().replace(\"'\",\"\").replace('[','').replace(']','')\n",
    "    genres_list_1.append(i)\n",
    "genres_list_1.remove('')\n",
    "genres_df = pd.DataFrame(genres_list_1)\n",
    "#print(genres_df)\n",
    "gen_data = genres_df.pivot_table(index = [0], aggfunc ='size')\n",
    "gen_dataframe = pd.DataFrame(gen_data)\n",
    "#print(gen_dataframe)\n",
    "film_genres = gen_dataframe.iloc[:,0]\n",
    "frequency = gen_dataframe.index\n",
    "plt.figure(figsize=(20,10))\n",
    "sns.barplot(data=gen_dataframe, x=film_genres, y=frequency)\n",
    "plt.title('The frequency of film genres')\n",
    "plt.ylabel('Film Genres')\n",
    "plt.xlabel('Frequency')\n"
   ]
  },
  {
   "cell_type": "code",
   "execution_count": 17,
   "metadata": {},
   "outputs": [
    {
     "data": {
      "image/png": "[encoded data removed]",
      "text/plain": [
       "<Figure size 1000x600 with 1 Axes>"
      ]
     },
     "metadata": {},
     "output_type": "display_data"
    }
   ],
   "source": [
    "# Visualization example: Budget distribution\n",
    "plt.figure(figsize=(10, 6))\n",
    "sns.histplot(movies_df['budget'], kde=True)\n",
    "plt.title('Distribution of Movie Budgets')\n",
    "plt.xlabel('Budget')\n",
    "plt.ylabel('Number of Movies')\n",
    "plt.show()"
   ]
  },
  {
   "cell_type": "code",
   "execution_count": 20,
   "metadata": {},
   "outputs": [
    {
     "data": {
      "image/png": "[encoded data removed]",
      "text/plain": [
       "<Figure size 1200x600 with 1 Axes>"
      ]
     },
     "metadata": {},
     "output_type": "display_data"
    }
   ],
   "source": [
    "# Q3: Yearly trend of movie budgets\n",
    "yearly_budget = movies_df.groupby(movies_df['release_date'].dt.year)['budget'].mean()\n",
    "plt.figure(figsize=(12, 6))\n",
    "yearly_budget.plot()\n",
    "plt.title('Annual Average Movie Budget')\n",
    "plt.xlabel('Year')\n",
    "plt.ylabel('Average Budget')\n",
    "plt.show()\n"
   ]
  }
 ],
 "metadata": {
  "colab": {
   "provenance": []
  },
  "kernelspec": {
   "display_name": "Python 3 (ipykernel)",
   "language": "python",
   "name": "python3"
  },
  "language_info": {
   "codemirror_mode": {
    "name": "ipython",
    "version": 3
   },
   "file_extension": ".py",
   "mimetype": "text/x-python",
   "name": "python",
   "nbconvert_exporter": "python",
   "pygments_lexer": "ipython3",
   "version": "3.10.14"
  },
  "vscode": {
   "interpreter": {
    "hash": "1904059d3876957b542b45423f2a26c6c4608f5e11cc75420e543fa77f94b066"
   }
  }
 },
 "nbformat": 4,
 "nbformat_minor": 4
}
